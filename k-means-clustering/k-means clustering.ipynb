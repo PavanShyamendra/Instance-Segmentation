{
  "nbformat": 4,
  "nbformat_minor": 0,
  "metadata": {
    "colab": {
      "name": "Untitled5.ipynb",
      "provenance": []
    },
    "kernelspec": {
      "name": "python3",
      "display_name": "Python 3"
    },
    "language_info": {
      "name": "python"
    }
  },
  "cells": [
    {
      "cell_type": "code",
      "execution_count": 1,
      "metadata": {
        "id": "wkAyDX_iSXO3"
      },
      "outputs": [],
      "source": [
        "import numpy as np\n",
        "import cv2"
      ]
    },
    {
      "cell_type": "code",
      "source": [
        "img = cv2.imread('img.jpg')"
      ],
      "metadata": {
        "id": "OjERknvQSZp0"
      },
      "execution_count": 3,
      "outputs": []
    },
    {
      "cell_type": "code",
      "source": [
        "img2 = img.reshape((-1,3))"
      ],
      "metadata": {
        "id": "QbNS7fooS5Pb"
      },
      "execution_count": 4,
      "outputs": []
    },
    {
      "cell_type": "code",
      "source": [
        "img2 = np.float32(img2)"
      ],
      "metadata": {
        "id": "5oX8ixZiS_YM"
      },
      "execution_count": 5,
      "outputs": []
    },
    {
      "cell_type": "code",
      "source": [
        "criteria = (cv2.TERM_CRITERIA_EPS + cv2.TERM_CRITERIA_MAX_ITER , 10 , 1.0)"
      ],
      "metadata": {
        "id": "IUEBRz06TEFU"
      },
      "execution_count": 6,
      "outputs": []
    },
    {
      "cell_type": "code",
      "source": [
        "k = 6"
      ],
      "metadata": {
        "id": "bGYTt9ybThMC"
      },
      "execution_count": 14,
      "outputs": []
    },
    {
      "cell_type": "code",
      "source": [
        "attempts = 10"
      ],
      "metadata": {
        "id": "svJIHw3ETi3s"
      },
      "execution_count": 15,
      "outputs": []
    },
    {
      "cell_type": "code",
      "source": [
        "ret , label , center = cv2.kmeans(img2,k,None,criteria,attempts,cv2.KMEANS_PP_CENTERS)"
      ],
      "metadata": {
        "id": "HMsIaHZwTkZP"
      },
      "execution_count": 16,
      "outputs": []
    },
    {
      "cell_type": "code",
      "source": [
        "center = np.uint8(center)"
      ],
      "metadata": {
        "id": "sw_g3zoYT0ol"
      },
      "execution_count": 17,
      "outputs": []
    },
    {
      "cell_type": "code",
      "source": [
        "res = center[label.flatten()]"
      ],
      "metadata": {
        "id": "GA6UHXIlT7sY"
      },
      "execution_count": 18,
      "outputs": []
    },
    {
      "cell_type": "code",
      "source": [
        "res2 = res.reshape((img.shape))"
      ],
      "metadata": {
        "id": "S8nOYbggT_Bt"
      },
      "execution_count": 19,
      "outputs": []
    },
    {
      "cell_type": "code",
      "source": [
        "cv2.imwrite(\"answer.jpg\" , res2)"
      ],
      "metadata": {
        "colab": {
          "base_uri": "https://localhost:8080/"
        },
        "id": "z3XXjEEIUDJ-",
        "outputId": "5c129b06-1357-4bfe-8b4d-42d7deb30af7"
      },
      "execution_count": 20,
      "outputs": [
        {
          "output_type": "execute_result",
          "data": {
            "text/plain": [
              "True"
            ]
          },
          "metadata": {},
          "execution_count": 20
        }
      ]
    },
    {
      "cell_type": "code",
      "source": [
        ""
      ],
      "metadata": {
        "id": "nIShgnMRUL8q"
      },
      "execution_count": null,
      "outputs": []
    }
  ]
}